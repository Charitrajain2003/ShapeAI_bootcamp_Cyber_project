{
  "nbformat": 4,
  "nbformat_minor": 0,
  "metadata": {
    "colab": {
      "name": "Charitra_Jain.ipynb",
      "provenance": []
    },
    "kernelspec": {
      "name": "python3",
      "display_name": "Python 3"
    },
    "language_info": {
      "name": "python"
    }
  },
  "cells": [
    {
      "cell_type": "code",
      "metadata": {
        "id": "M4jENxN-0EUV"
      },
      "source": [
        "import requests\n",
        "from datetime import datetime"
      ],
      "execution_count": 7,
      "outputs": []
    },
    {
      "cell_type": "code",
      "metadata": {
        "colab": {
          "base_uri": "https://localhost:8080/"
        },
        "id": "SZX4pYcJ6EU6",
        "outputId": "29b4876e-a479-44ab-f5a9-e9966d97f617"
      },
      "source": [
        "api_key = 'bc13aa67ac0e958529755c5977141d3f'\n",
        "location = input(\"Enter the city name: \")"
      ],
      "execution_count": 8,
      "outputs": [
        {
          "output_type": "stream",
          "text": [
            "Enter the city name: MUMBAI\n"
          ],
          "name": "stdout"
        }
      ]
    },
    {
      "cell_type": "code",
      "metadata": {
        "id": "m1jl9upK7b9l"
      },
      "source": [
        "complete_api_link = \"https://api.openweathermap.org/data/2.5/weather?q=\"+location+\"&appid=\"+api_key\n",
        "api_link = requests.get(complete_api_link)\n",
        "api_data = api_link.json()"
      ],
      "execution_count": 10,
      "outputs": []
    },
    {
      "cell_type": "code",
      "metadata": {
        "id": "h4lQRAE5_j_v"
      },
      "source": [
        "temp_city = ((api_data['main']['temp']) - 273.15)\n",
        "weather_desc = api_data['weather'][0]['description']\n",
        "hmdt = api_data['main']['humidity']\n",
        "wind_spd = api_data['wind']['speed']\n",
        "date_time = datetime.now().strftime(\"%d %b %Y | %I:%M:%S %p\")\n"
      ],
      "execution_count": 11,
      "outputs": []
    },
    {
      "cell_type": "code",
      "metadata": {
        "colab": {
          "base_uri": "https://localhost:8080/"
        },
        "id": "T-m4pK3LBI94",
        "outputId": "a524d243-5d4f-4ef1-8201-0631c7abbd5b"
      },
      "source": [
        "print(\"---------------------------------------------------------------\")\n",
        "print(\"Weather Stats for - {}  || {}\".format(location.upper(), date_time))\n",
        "print(\"---------------------------------------------------------------\")"
      ],
      "execution_count": 12,
      "outputs": [
        {
          "output_type": "stream",
          "text": [
            "---------------------------------------------------------------\n",
            "Weather Stats for - MUMBAI  || 22 Jun 2021 | 06:51:37 PM\n",
            "---------------------------------------------------------------\n"
          ],
          "name": "stdout"
        }
      ]
    },
    {
      "cell_type": "code",
      "metadata": {
        "colab": {
          "base_uri": "https://localhost:8080/"
        },
        "id": "LBoDChuiBysq",
        "outputId": "bc5bf3b7-44eb-46a3-a981-a78888af1dc0"
      },
      "source": [
        "print(\"Current temperature is: {:>2f} deg C\".format(temp_city))\n",
        "print(\"Current weather desc  :\",weather_desc)\n",
        "print(\"Current Humidity      :\",hmdt, '%')\n",
        "print(\"Current wind speed    :\",wind_spd, 'kmph')"
      ],
      "execution_count": 13,
      "outputs": [
        {
          "output_type": "stream",
          "text": [
            "Current temperature is: 29.990000 deg C\n",
            "Current weather desc  : haze\n",
            "Current Humidity      : 79 %\n",
            "Current wind speed    : 3.6 kmph\n"
          ],
          "name": "stdout"
        }
      ]
    }
  ]
}